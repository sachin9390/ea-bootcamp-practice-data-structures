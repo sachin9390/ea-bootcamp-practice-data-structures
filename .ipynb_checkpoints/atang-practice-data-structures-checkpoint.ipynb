{
 "cells": [
  {
   "cell_type": "markdown",
   "metadata": {},
   "source": [
    "#### Question 1: Markdown\n",
    "\n",
    "Insert title and author."
   ]
  },
  {
   "cell_type": "markdown",
   "metadata": {},
   "source": [
    "# Earth Analytics Bootcamp - Practice Activity on Data Structures\n",
    "\n",
    "**Author:** Athena Tang"
   ]
  },
  {
   "cell_type": "markdown",
   "metadata": {},
   "source": [
    "#### Question 2: Import Python Packages\n",
    "\n",
    "Import os, numpy, pandas, urllib.request."
   ]
  },
  {
   "cell_type": "code",
   "execution_count": 36,
   "metadata": {},
   "outputs": [
    {
     "name": "stdout",
     "output_type": "stream",
     "text": [
      "import of packages successful\n"
     ]
    }
   ],
   "source": [
    "#  Import Python packages\n",
    "import os\n",
    "import numpy as np\n",
    "import pandas as pd\n",
    "import urllib.request\n",
    "import matplotlib.pyplot as plt\n",
    "\n",
    "#  Print message after packages imported successfully\n",
    "print(\"import of packages successful\")"
   ]
  },
  {
   "cell_type": "markdown",
   "metadata": {},
   "source": [
    "#### Question 3: Create List of Data Values\n",
    "\n",
    "List and print average monthly temperatures Celsius in Boulder, CO."
   ]
  },
  {
   "cell_type": "code",
   "execution_count": 37,
   "metadata": {},
   "outputs": [
    {
     "name": "stdout",
     "output_type": "stream",
     "text": [
      "[0.0, 2.0, 5.0, 9.56, 14.39, 21.72, 16.72, 11.61, 4.89, 0.99]\n"
     ]
    }
   ],
   "source": [
    "#  List average monthly temperatures Celsius in Boulder, CO\n",
    "avg_mthly_tempC = [0.0, 2.00, 5.0, 9.56, 14.39, 21.72, 16.72, 11.61, 4.89, 0.99]\n",
    "\n",
    "#  Print avg_mthly_tempC\n",
    "print(avg_mthly_tempC)"
   ]
  },
  {
   "cell_type": "markdown",
   "metadata": {},
   "source": [
    "#### Question 4: Insert Values Into a Python List\n",
    "\n",
    "Insert missing June and July temperatures into the list of average monthly temperatures Celsius in Boulder, CO."
   ]
  },
  {
   "cell_type": "code",
   "execution_count": 38,
   "metadata": {},
   "outputs": [
    {
     "name": "stdout",
     "output_type": "stream",
     "text": [
      "[0.0, 2.0, 5.0, 9.56, 14.39, 19.56, 21.72, 16.72, 11.61, 4.89, 0.99]\n",
      "[0.0, 2.0, 5.0, 9.56, 14.39, 19.56, 22.78, 21.72, 16.72, 11.61, 4.89, 0.99]\n"
     ]
    }
   ],
   "source": [
    "#  Insert June and July into avg_mthly_tempC list and print after each addition\n",
    "avg_mthly_tempC.insert(5, 19.56)\n",
    "print(avg_mthly_tempC)\n",
    "\n",
    "avg_mthly_tempC.insert(6, 22.78)\n",
    "print(avg_mthly_tempC)"
   ]
  },
  {
   "cell_type": "markdown",
   "metadata": {},
   "source": [
    "#### Question 5: Manually Create Numpy Arrays\n",
    "\n",
    "Manually create and print one-dimensional numpy array of average monthly temperature values."
   ]
  },
  {
   "cell_type": "code",
   "execution_count": 39,
   "metadata": {},
   "outputs": [
    {
     "name": "stdout",
     "output_type": "stream",
     "text": [
      "[ 0.    2.    5.    9.56 14.39 19.56 22.78 21.72 16.72 11.61  4.89  0.99]\n",
      "[ 0.    2.    5.    9.56 14.39 19.56 22.78 21.72 16.72 11.61  4.89  0.99]\n"
     ]
    }
   ],
   "source": [
    "#  Create and print one-dimensional numpy array of avg_mthly_tempC values\n",
    "avg_mthly_tempC_array = np.array([0.0, 2.0, 5.0, 9.56, 14.39, 19.56, 22.78, 21.72, 16.72, 11.61, 4.89, 0.99])\n",
    "print(avg_mthly_tempC_array)\n",
    "avg_mthly_tempC_array = np.array(avg_mthly_tempC)\n",
    "print(avg_mthly_tempC_array)"
   ]
  },
  {
   "cell_type": "markdown",
   "metadata": {},
   "source": [
    "#### Question 6: Download Text File and Import Into Numpy Arrays\n",
    "\n",
    "Use .urllib.request to download avg-monthly-temp.txt from https://ndownloader.figshare.com/files/12732467 to data directory."
   ]
  },
  {
   "cell_type": "code",
   "execution_count": 97,
   "metadata": {},
   "outputs": [
    {
     "name": "stdout",
     "output_type": "stream",
     "text": [
      "datasets downloaded successfully\n",
      "[ 0.    2.    5.    9.56 14.39 19.56 22.78 21.72 16.72 11.61  4.89  0.99]\n"
     ]
    }
   ],
   "source": [
    "#  Set the working directory to the `earth-analytics-bootcamp` directory\n",
    "os.chdir(\"c://users/athena/earth-analytics-bootcamp/\")\n",
    "\n",
    "#  Use \"urllib\" to download .csv of monthly snowfall (inches) for Boulder, CO, in 2007 and 2017 from Earth Lab figshare repository\n",
    "urllib.request.urlretrieve(url= \"https://ndownloader.figshare.com/files/12732467\", \n",
    "                           filename= \"data/avg-monthly-temp.txt\")\n",
    "\n",
    "#  Print message data downloads were successful\n",
    "print(\"datasets downloaded successfully\")\n",
    "\n",
    "#  Import values from \"avg-monthly-temp.text\" as a numpy array\n",
    "avg_mthly_temp = np.loadtxt(fname= \"c:/users/athena/earth-analytics-bootcamp/data/avg-monthly-temp.txt\")\n",
    "\n",
    "#  Print avg_monthly_temp\n",
    "print(avg_mthly_temp)"
   ]
  },
  {
   "cell_type": "markdown",
   "metadata": {},
   "source": [
    "#### Question 7: Select and Summarize Data From Numpy Arrays\n",
    "\n",
    "Using selections, create two numpy arrays containing data values for:\n",
    "1. Mar, Apr, May\n",
    "2. Sept, Oct, Nov\n",
    "\n",
    "Calculate and print mean of each numpy array."
   ]
  },
  {
   "cell_type": "code",
   "execution_count": 41,
   "metadata": {},
   "outputs": [
    {
     "name": "stdout",
     "output_type": "stream",
     "text": [
      "Mean March-May Monthly Temperature: 9.65\n",
      "Mean September-November Monthly Temperature: 11.073333333333332\n"
     ]
    }
   ],
   "source": [
    "#  Create numpy arrays of Mar, Apri, and May, and Sept, Oct, Nov\n",
    "avg_mar_april_may_mthly_temp_array = np.array([5.0, 9.56, 14.39])\n",
    "avg_sept_oct_nov_mthly_temp_array = np.array([16.72, 11.61, 4.89])\n",
    "\n",
    "#  Calculate mean of mar-may and sept-nov avg mthly temps\n",
    "mean_mar_may = np.mean(avg_mar_april_may_mthly_temp_array)\n",
    "mean_sept_nov = np.mean(avg_sept_oct_nov_mthly_temp_array)\n",
    "\n",
    "print(\"Mean March-May Monthly Temperature:\", mean_mar_may)\n",
    "print(\"Mean September-November Monthly Temperature:\", mean_sept_nov)"
   ]
  },
  {
   "cell_type": "markdown",
   "metadata": {},
   "source": [
    "#### Question 8: Manually Create Pandas Dataframes\n",
    "\n",
    "Create and print pandas dataframe of average montly Celsius temperatures for Boulder, CO."
   ]
  },
  {
   "cell_type": "code",
   "execution_count": 100,
   "metadata": {},
   "outputs": [
    {
     "data": {
      "text/html": [
       "<div>\n",
       "<style scoped>\n",
       "    .dataframe tbody tr th:only-of-type {\n",
       "        vertical-align: middle;\n",
       "    }\n",
       "\n",
       "    .dataframe tbody tr th {\n",
       "        vertical-align: top;\n",
       "    }\n",
       "\n",
       "    .dataframe thead th {\n",
       "        text-align: right;\n",
       "    }\n",
       "</style>\n",
       "<table border=\"1\" class=\"dataframe\">\n",
       "  <thead>\n",
       "    <tr style=\"text-align: right;\">\n",
       "      <th></th>\n",
       "      <th>Month</th>\n",
       "      <th>Temp</th>\n",
       "    </tr>\n",
       "  </thead>\n",
       "  <tbody>\n",
       "    <tr>\n",
       "      <th>0</th>\n",
       "      <td>January</td>\n",
       "      <td>0.00</td>\n",
       "    </tr>\n",
       "    <tr>\n",
       "      <th>1</th>\n",
       "      <td>February</td>\n",
       "      <td>2.00</td>\n",
       "    </tr>\n",
       "    <tr>\n",
       "      <th>2</th>\n",
       "      <td>March</td>\n",
       "      <td>5.00</td>\n",
       "    </tr>\n",
       "    <tr>\n",
       "      <th>3</th>\n",
       "      <td>April</td>\n",
       "      <td>9.56</td>\n",
       "    </tr>\n",
       "    <tr>\n",
       "      <th>4</th>\n",
       "      <td>May</td>\n",
       "      <td>14.39</td>\n",
       "    </tr>\n",
       "    <tr>\n",
       "      <th>5</th>\n",
       "      <td>June</td>\n",
       "      <td>19.56</td>\n",
       "    </tr>\n",
       "    <tr>\n",
       "      <th>6</th>\n",
       "      <td>July</td>\n",
       "      <td>22.78</td>\n",
       "    </tr>\n",
       "    <tr>\n",
       "      <th>7</th>\n",
       "      <td>August</td>\n",
       "      <td>21.72</td>\n",
       "    </tr>\n",
       "    <tr>\n",
       "      <th>8</th>\n",
       "      <td>September</td>\n",
       "      <td>16.72</td>\n",
       "    </tr>\n",
       "    <tr>\n",
       "      <th>9</th>\n",
       "      <td>October</td>\n",
       "      <td>11.61</td>\n",
       "    </tr>\n",
       "    <tr>\n",
       "      <th>10</th>\n",
       "      <td>November</td>\n",
       "      <td>4.89</td>\n",
       "    </tr>\n",
       "    <tr>\n",
       "      <th>11</th>\n",
       "      <td>December</td>\n",
       "      <td>0.99</td>\n",
       "    </tr>\n",
       "  </tbody>\n",
       "</table>\n",
       "</div>"
      ],
      "text/plain": [
       "        Month   Temp\n",
       "0     January   0.00\n",
       "1    February   2.00\n",
       "2       March   5.00\n",
       "3       April   9.56\n",
       "4         May  14.39\n",
       "5        June  19.56\n",
       "6        July  22.78\n",
       "7      August  21.72\n",
       "8   September  16.72\n",
       "9     October  11.61\n",
       "10   November   4.89\n",
       "11   December   0.99"
      ]
     },
     "execution_count": 100,
     "metadata": {},
     "output_type": "execute_result"
    }
   ],
   "source": [
    "#  Create pandas dataframe with columns and rows with months and temperature data\n",
    "avg_mthly_tempC = pd.DataFrame(columns=[\"Month\", \"Temp\"], data=[[\"January\", 0.0], [\"February\", 2.00], [\"March\", 5.00], [\"April\", 9.56], [\"May\", 14.39], [\"June\", 19.56], [\"July\", 22.78], [\"August\", 21.72], [\"September\", 16.72], [\"October\", 11.61], [\"November\", 4.89], [\"December\", 0.99]])\n",
    "\n",
    "avg_mthly_tempC"
   ]
  },
  {
   "cell_type": "markdown",
   "metadata": {},
   "source": [
    "#### Question 9: Download CSV File and Import Into Pandas Dataframes\n",
    "\n",
    "Use .urllib.request to download avg-temp-months-seasons.csv from https://ndownloader.figshare.com/files/12739457 and import i.nto a padas dataframe."
   ]
  },
  {
   "cell_type": "code",
   "execution_count": 101,
   "metadata": {},
   "outputs": [
    {
     "name": "stdout",
     "output_type": "stream",
     "text": [
      "datasets downloaded successfully\n"
     ]
    },
    {
     "data": {
      "text/html": [
       "<div>\n",
       "<style scoped>\n",
       "    .dataframe tbody tr th:only-of-type {\n",
       "        vertical-align: middle;\n",
       "    }\n",
       "\n",
       "    .dataframe tbody tr th {\n",
       "        vertical-align: top;\n",
       "    }\n",
       "\n",
       "    .dataframe thead th {\n",
       "        text-align: right;\n",
       "    }\n",
       "</style>\n",
       "<table border=\"1\" class=\"dataframe\">\n",
       "  <thead>\n",
       "    <tr style=\"text-align: right;\">\n",
       "      <th></th>\n",
       "      <th>months</th>\n",
       "      <th>temp</th>\n",
       "      <th>seasons</th>\n",
       "    </tr>\n",
       "  </thead>\n",
       "  <tbody>\n",
       "    <tr>\n",
       "      <th>0</th>\n",
       "      <td>Jan</td>\n",
       "      <td>0.00</td>\n",
       "      <td>Winter</td>\n",
       "    </tr>\n",
       "    <tr>\n",
       "      <th>1</th>\n",
       "      <td>Feb</td>\n",
       "      <td>2.00</td>\n",
       "      <td>Winter</td>\n",
       "    </tr>\n",
       "    <tr>\n",
       "      <th>2</th>\n",
       "      <td>Mar</td>\n",
       "      <td>5.00</td>\n",
       "      <td>Spring</td>\n",
       "    </tr>\n",
       "    <tr>\n",
       "      <th>3</th>\n",
       "      <td>Apr</td>\n",
       "      <td>9.56</td>\n",
       "      <td>Spring</td>\n",
       "    </tr>\n",
       "    <tr>\n",
       "      <th>4</th>\n",
       "      <td>May</td>\n",
       "      <td>14.39</td>\n",
       "      <td>Spring</td>\n",
       "    </tr>\n",
       "    <tr>\n",
       "      <th>5</th>\n",
       "      <td>June</td>\n",
       "      <td>19.56</td>\n",
       "      <td>Summer</td>\n",
       "    </tr>\n",
       "    <tr>\n",
       "      <th>6</th>\n",
       "      <td>July</td>\n",
       "      <td>22.78</td>\n",
       "      <td>Summer</td>\n",
       "    </tr>\n",
       "    <tr>\n",
       "      <th>7</th>\n",
       "      <td>Aug</td>\n",
       "      <td>21.72</td>\n",
       "      <td>Summer</td>\n",
       "    </tr>\n",
       "    <tr>\n",
       "      <th>8</th>\n",
       "      <td>Sept</td>\n",
       "      <td>16.72</td>\n",
       "      <td>Fall</td>\n",
       "    </tr>\n",
       "    <tr>\n",
       "      <th>9</th>\n",
       "      <td>Oct</td>\n",
       "      <td>11.61</td>\n",
       "      <td>Fall</td>\n",
       "    </tr>\n",
       "    <tr>\n",
       "      <th>10</th>\n",
       "      <td>Nov</td>\n",
       "      <td>4.89</td>\n",
       "      <td>Fall</td>\n",
       "    </tr>\n",
       "    <tr>\n",
       "      <th>11</th>\n",
       "      <td>Dec</td>\n",
       "      <td>0.99</td>\n",
       "      <td>Winter</td>\n",
       "    </tr>\n",
       "  </tbody>\n",
       "</table>\n",
       "</div>"
      ],
      "text/plain": [
       "   months   temp seasons\n",
       "0     Jan   0.00  Winter\n",
       "1     Feb   2.00  Winter\n",
       "2     Mar   5.00  Spring\n",
       "3     Apr   9.56  Spring\n",
       "4     May  14.39  Spring\n",
       "5    June  19.56  Summer\n",
       "6    July  22.78  Summer\n",
       "7     Aug  21.72  Summer\n",
       "8    Sept  16.72    Fall\n",
       "9     Oct  11.61    Fall\n",
       "10    Nov   4.89    Fall\n",
       "11    Dec   0.99  Winter"
      ]
     },
     "execution_count": 101,
     "metadata": {},
     "output_type": "execute_result"
    }
   ],
   "source": [
    "#  Download .csv file of average monthly temperatures Celsius for Boulder, CO, which includes month and season names, to data directory\n",
    "urllib.request.urlretrieve(url= \"https://ndownloader.figshare.com/files/12739457\", \n",
    "                           filename= \"data/avg-temp-months-seasons.csv\")\n",
    "\n",
    "#  Print message data downloads were successful\n",
    "print(\"datasets downloaded successfully\")\n",
    "\n",
    "#  Import average monthly temperatures Celsius as pandas dataframe\n",
    "avg_mthly_tempC = pd.read_csv(\"c:/users/athena/earth-analytics-bootcamp/data/avg-temp-months-seasons.csv\")\n",
    "\n",
    "#  Print pandas dataframe\n",
    "avg_mthly_tempC"
   ]
  },
  {
   "cell_type": "markdown",
   "metadata": {},
   "source": [
    "#### Question 10 Select and Summarize Data From Pandas Dataframes\n",
    "\n",
    "Select the data for each season, assign results to a new pandas dataframe for each season, and run the function to summarize each."
   ]
  },
  {
   "cell_type": "code",
   "execution_count": 102,
   "metadata": {},
   "outputs": [
    {
     "name": "stdout",
     "output_type": "stream",
     "text": [
      "Winter Average Monthly Temperature\n"
     ]
    },
    {
     "data": {
      "text/html": [
       "<div>\n",
       "<style scoped>\n",
       "    .dataframe tbody tr th:only-of-type {\n",
       "        vertical-align: middle;\n",
       "    }\n",
       "\n",
       "    .dataframe tbody tr th {\n",
       "        vertical-align: top;\n",
       "    }\n",
       "\n",
       "    .dataframe thead th {\n",
       "        text-align: right;\n",
       "    }\n",
       "</style>\n",
       "<table border=\"1\" class=\"dataframe\">\n",
       "  <thead>\n",
       "    <tr style=\"text-align: right;\">\n",
       "      <th></th>\n",
       "      <th>temp</th>\n",
       "    </tr>\n",
       "  </thead>\n",
       "  <tbody>\n",
       "    <tr>\n",
       "      <th>count</th>\n",
       "      <td>3.000000</td>\n",
       "    </tr>\n",
       "    <tr>\n",
       "      <th>mean</th>\n",
       "      <td>0.996667</td>\n",
       "    </tr>\n",
       "    <tr>\n",
       "      <th>std</th>\n",
       "      <td>1.000017</td>\n",
       "    </tr>\n",
       "    <tr>\n",
       "      <th>min</th>\n",
       "      <td>0.000000</td>\n",
       "    </tr>\n",
       "    <tr>\n",
       "      <th>25%</th>\n",
       "      <td>0.495000</td>\n",
       "    </tr>\n",
       "    <tr>\n",
       "      <th>50%</th>\n",
       "      <td>0.990000</td>\n",
       "    </tr>\n",
       "    <tr>\n",
       "      <th>75%</th>\n",
       "      <td>1.495000</td>\n",
       "    </tr>\n",
       "    <tr>\n",
       "      <th>max</th>\n",
       "      <td>2.000000</td>\n",
       "    </tr>\n",
       "  </tbody>\n",
       "</table>\n",
       "</div>"
      ],
      "text/plain": [
       "           temp\n",
       "count  3.000000\n",
       "mean   0.996667\n",
       "std    1.000017\n",
       "min    0.000000\n",
       "25%    0.495000\n",
       "50%    0.990000\n",
       "75%    1.495000\n",
       "max    2.000000"
      ]
     },
     "execution_count": 102,
     "metadata": {},
     "output_type": "execute_result"
    }
   ],
   "source": [
    "#  Calculate and print seasonal pandas dataframe values summary statistics\n",
    "avg_mthly_tempC_winter = avg_mthly_tempC[avg_mthly_tempC.seasons == \"Winter\"]\n",
    "avg_mthly_tempC_spring = avg_mthly_tempC[avg_mthly_tempC.seasons == \"Spring\"]\n",
    "avg_mthly_tempC_summer = avg_mthly_tempC[avg_mthly_tempC.seasons == \"Summer\"]\n",
    "avg_mthly_tempC_fall = avg_mthly_tempC[avg_mthly_tempC.seasons == \"Fall\"]\n",
    "\n",
    "print(\"Winter Average Monthly Temperature\")\n",
    "(avg_mthly_tempC_winter.describe())"
   ]
  },
  {
   "cell_type": "code",
   "execution_count": 103,
   "metadata": {},
   "outputs": [
    {
     "name": "stdout",
     "output_type": "stream",
     "text": [
      "Spring Average Monthly Temperature\n"
     ]
    },
    {
     "data": {
      "text/html": [
       "<div>\n",
       "<style scoped>\n",
       "    .dataframe tbody tr th:only-of-type {\n",
       "        vertical-align: middle;\n",
       "    }\n",
       "\n",
       "    .dataframe tbody tr th {\n",
       "        vertical-align: top;\n",
       "    }\n",
       "\n",
       "    .dataframe thead th {\n",
       "        text-align: right;\n",
       "    }\n",
       "</style>\n",
       "<table border=\"1\" class=\"dataframe\">\n",
       "  <thead>\n",
       "    <tr style=\"text-align: right;\">\n",
       "      <th></th>\n",
       "      <th>temp</th>\n",
       "    </tr>\n",
       "  </thead>\n",
       "  <tbody>\n",
       "    <tr>\n",
       "      <th>count</th>\n",
       "      <td>3.000000</td>\n",
       "    </tr>\n",
       "    <tr>\n",
       "      <th>mean</th>\n",
       "      <td>9.650000</td>\n",
       "    </tr>\n",
       "    <tr>\n",
       "      <th>std</th>\n",
       "      <td>4.695647</td>\n",
       "    </tr>\n",
       "    <tr>\n",
       "      <th>min</th>\n",
       "      <td>5.000000</td>\n",
       "    </tr>\n",
       "    <tr>\n",
       "      <th>25%</th>\n",
       "      <td>7.280000</td>\n",
       "    </tr>\n",
       "    <tr>\n",
       "      <th>50%</th>\n",
       "      <td>9.560000</td>\n",
       "    </tr>\n",
       "    <tr>\n",
       "      <th>75%</th>\n",
       "      <td>11.975000</td>\n",
       "    </tr>\n",
       "    <tr>\n",
       "      <th>max</th>\n",
       "      <td>14.390000</td>\n",
       "    </tr>\n",
       "  </tbody>\n",
       "</table>\n",
       "</div>"
      ],
      "text/plain": [
       "            temp\n",
       "count   3.000000\n",
       "mean    9.650000\n",
       "std     4.695647\n",
       "min     5.000000\n",
       "25%     7.280000\n",
       "50%     9.560000\n",
       "75%    11.975000\n",
       "max    14.390000"
      ]
     },
     "execution_count": 103,
     "metadata": {},
     "output_type": "execute_result"
    }
   ],
   "source": [
    "print(\"Spring Average Monthly Temperature\")\n",
    "(avg_mthly_tempC_spring.describe())"
   ]
  },
  {
   "cell_type": "code",
   "execution_count": 104,
   "metadata": {},
   "outputs": [
    {
     "name": "stdout",
     "output_type": "stream",
     "text": [
      "Summer Average Monthly Temperature\n"
     ]
    },
    {
     "data": {
      "text/html": [
       "<div>\n",
       "<style scoped>\n",
       "    .dataframe tbody tr th:only-of-type {\n",
       "        vertical-align: middle;\n",
       "    }\n",
       "\n",
       "    .dataframe tbody tr th {\n",
       "        vertical-align: top;\n",
       "    }\n",
       "\n",
       "    .dataframe thead th {\n",
       "        text-align: right;\n",
       "    }\n",
       "</style>\n",
       "<table border=\"1\" class=\"dataframe\">\n",
       "  <thead>\n",
       "    <tr style=\"text-align: right;\">\n",
       "      <th></th>\n",
       "      <th>temp</th>\n",
       "    </tr>\n",
       "  </thead>\n",
       "  <tbody>\n",
       "    <tr>\n",
       "      <th>count</th>\n",
       "      <td>3.000000</td>\n",
       "    </tr>\n",
       "    <tr>\n",
       "      <th>mean</th>\n",
       "      <td>21.353333</td>\n",
       "    </tr>\n",
       "    <tr>\n",
       "      <th>std</th>\n",
       "      <td>1.641016</td>\n",
       "    </tr>\n",
       "    <tr>\n",
       "      <th>min</th>\n",
       "      <td>19.560000</td>\n",
       "    </tr>\n",
       "    <tr>\n",
       "      <th>25%</th>\n",
       "      <td>20.640000</td>\n",
       "    </tr>\n",
       "    <tr>\n",
       "      <th>50%</th>\n",
       "      <td>21.720000</td>\n",
       "    </tr>\n",
       "    <tr>\n",
       "      <th>75%</th>\n",
       "      <td>22.250000</td>\n",
       "    </tr>\n",
       "    <tr>\n",
       "      <th>max</th>\n",
       "      <td>22.780000</td>\n",
       "    </tr>\n",
       "  </tbody>\n",
       "</table>\n",
       "</div>"
      ],
      "text/plain": [
       "            temp\n",
       "count   3.000000\n",
       "mean   21.353333\n",
       "std     1.641016\n",
       "min    19.560000\n",
       "25%    20.640000\n",
       "50%    21.720000\n",
       "75%    22.250000\n",
       "max    22.780000"
      ]
     },
     "execution_count": 104,
     "metadata": {},
     "output_type": "execute_result"
    }
   ],
   "source": [
    "print(\"Summer Average Monthly Temperature\")\n",
    "(avg_mthly_tempC_summer.describe())"
   ]
  },
  {
   "cell_type": "code",
   "execution_count": 105,
   "metadata": {},
   "outputs": [
    {
     "name": "stdout",
     "output_type": "stream",
     "text": [
      "Fall Average Monthly Temperature\n"
     ]
    },
    {
     "data": {
      "text/html": [
       "<div>\n",
       "<style scoped>\n",
       "    .dataframe tbody tr th:only-of-type {\n",
       "        vertical-align: middle;\n",
       "    }\n",
       "\n",
       "    .dataframe tbody tr th {\n",
       "        vertical-align: top;\n",
       "    }\n",
       "\n",
       "    .dataframe thead th {\n",
       "        text-align: right;\n",
       "    }\n",
       "</style>\n",
       "<table border=\"1\" class=\"dataframe\">\n",
       "  <thead>\n",
       "    <tr style=\"text-align: right;\">\n",
       "      <th></th>\n",
       "      <th>temp</th>\n",
       "    </tr>\n",
       "  </thead>\n",
       "  <tbody>\n",
       "    <tr>\n",
       "      <th>count</th>\n",
       "      <td>3.000000</td>\n",
       "    </tr>\n",
       "    <tr>\n",
       "      <th>mean</th>\n",
       "      <td>11.073333</td>\n",
       "    </tr>\n",
       "    <tr>\n",
       "      <th>std</th>\n",
       "      <td>5.933231</td>\n",
       "    </tr>\n",
       "    <tr>\n",
       "      <th>min</th>\n",
       "      <td>4.890000</td>\n",
       "    </tr>\n",
       "    <tr>\n",
       "      <th>25%</th>\n",
       "      <td>8.250000</td>\n",
       "    </tr>\n",
       "    <tr>\n",
       "      <th>50%</th>\n",
       "      <td>11.610000</td>\n",
       "    </tr>\n",
       "    <tr>\n",
       "      <th>75%</th>\n",
       "      <td>14.165000</td>\n",
       "    </tr>\n",
       "    <tr>\n",
       "      <th>max</th>\n",
       "      <td>16.720000</td>\n",
       "    </tr>\n",
       "  </tbody>\n",
       "</table>\n",
       "</div>"
      ],
      "text/plain": [
       "            temp\n",
       "count   3.000000\n",
       "mean   11.073333\n",
       "std     5.933231\n",
       "min     4.890000\n",
       "25%     8.250000\n",
       "50%    11.610000\n",
       "75%    14.165000\n",
       "max    16.720000"
      ]
     },
     "execution_count": 105,
     "metadata": {},
     "output_type": "execute_result"
    }
   ],
   "source": [
    "print(\"Fall Average Monthly Temperature\")\n",
    "(avg_mthly_tempC_fall.describe())"
   ]
  },
  {
   "cell_type": "markdown",
   "metadata": {},
   "source": [
    "#### Question 11: Plot Data From Pandas Dataframes\n",
    "\n",
    "Manually create and plot a new pandas dataframe containing season mean values and names."
   ]
  },
  {
   "cell_type": "code",
   "execution_count": 107,
   "metadata": {},
   "outputs": [
    {
     "data": {
      "image/png": "[encoded data removed]",
      "text/plain": [
       "<Figure size 360x720 with 1 Axes>"
      ]
     },
     "metadata": {},
     "output_type": "display_data"
    }
   ],
   "source": [
    "#  Create any plot for avg_mthly_tempC season mean values and names\n",
    "mean_seasonal_temp = pd.DataFrame(columns=[\"season\", \"temp\"], data=[[\"Winter\", 0.996667], [\"Spring\", 9.650000], [\"Summer\", 21.353333], [\"Fall\", 11.073333]])\n",
    "\n",
    "#  Set plot size for all following plots\n",
    "plt.rcParams[\"figure.figsize\"] = (5, 10)\n",
    "\n",
    "#  Create the plot space upon which to plot data\n",
    "fig, ax = plt.subplots()\n",
    "\n",
    "#  Add the x-axis and the y-axis to the plot\n",
    "ax.bar(mean_seasonal_temp.season, mean_seasonal_temp.temp, color=\"blue\")\n",
    "\n",
    "#  Import ticker and set stepsize\n",
    "import matplotlib.ticker as ticker\n",
    "start, end = ax.get_xlim()\n",
    "ax.yaxis.set_ticks(np.arange(0, 22, 1.0))\n",
    "\n",
    "#  Set plot title\n",
    "ax.set(title=\"Mean Seasonal Temperatures for Boulder, CO\")\n",
    "\n",
    "#  Label axes\n",
    "ax.set(xlabel=\"Season\", ylabel=\"Mean Celsius Temperature\");"
   ]
  }
 ],
 "metadata": {
  "kernelspec": {
   "display_name": "Python 3",
   "language": "python",
   "name": "python3"
  },
  "language_info": {
   "codemirror_mode": {
    "name": "ipython",
    "version": 3
   },
   "file_extension": ".py",
   "mimetype": "text/x-python",
   "name": "python",
   "nbconvert_exporter": "python",
   "pygments_lexer": "ipython3",
   "version": "3.7.3"
  }
 },
 "nbformat": 4,
 "nbformat_minor": 2
}
