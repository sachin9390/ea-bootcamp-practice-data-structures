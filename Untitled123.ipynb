{
 "cells": [
  {
   "cell_type": "markdown",
   "metadata": {},
   "source": [
    "# AUTHOR : SACHIN"
   ]
  },
  {
   "cell_type": "code",
   "execution_count": 33,
   "metadata": {},
   "outputs": [
    {
     "ename": "SyntaxError",
     "evalue": "invalid syntax (<ipython-input-33-2e2483e2bd04>, line 29)",
     "output_type": "error",
     "traceback": [
      "\u001b[1;36m  File \u001b[1;32m\"<ipython-input-33-2e2483e2bd04>\"\u001b[1;36m, line \u001b[1;32m29\u001b[0m\n\u001b[1;33m    git status\u001b[0m\n\u001b[1;37m             ^\u001b[0m\n\u001b[1;31mSyntaxError\u001b[0m\u001b[1;31m:\u001b[0m invalid syntax\n"
     ]
    }
   ],
   "source": [
    "#import nes module\n",
    "import os\n",
    "import numpy \n",
    "import pandas\n",
    "import matplotlib.pyplot as plt\n",
    "import urllib.request as urlrqst\n",
    "#creating list\n",
    "months= [\"jan\",\"feb\",\"march\",\"april\",\"may\",'june','july','aug','sep']\n",
    "prec=[01.0,02.0,03.0,04.0,05.0,06.0,07.0,08.0,09.0]\n",
    "type(months)\n",
    "#creating array from the list\n",
    "arraymonth= numpy.array([months])\n",
    "type(arraymonth)\n",
    "#download text file\n",
    "\n",
    "urlrqst.urlretrieve(\"https://ndownloader.figshare.com/files/12732467\"\n",
    "                    ,filename=\"ol/avg-monthly-temp.txt\")\n",
    "AVGtemp= numpy.loadtxt(\"ol/avg-monthly-temp.txt\")\n",
    "AVGtemp\n",
    "manualpanda=pandas.DataFrame(columns=[\"newclm\",'columnum','fsfd'],data=[['one',1,56],['two',2],['three',3]])\n",
    "manualpanda\n",
    "#download csv file and import into data frame\n",
    "urlrqst.urlretrieve(\"https://ndownloader.figshare.com/files/12739457\",\n",
    "                   filename=\"ol/avg-temp-months-seasons.csv\")\n",
    "csv= pandas.read_csv(\"ol/avg-temp-months-seasons.csv\")\n",
    "csv\n",
    "csv.set_index('seasons')\n",
    "csv\n",
    "git status\n"
   ]
  },
  {
   "cell_type": "code",
   "execution_count": null,
   "metadata": {},
   "outputs": [],
   "source": []
  }
 ],
 "metadata": {
  "kernelspec": {
   "display_name": "Python 3",
   "language": "python",
   "name": "python3"
  },
  "language_info": {
   "codemirror_mode": {
    "name": "ipython",
    "version": 3
   },
   "file_extension": ".py",
   "mimetype": "text/x-python",
   "name": "python",
   "nbconvert_exporter": "python",
   "pygments_lexer": "ipython3",
   "version": "3.7.3"
  }
 },
 "nbformat": 4,
 "nbformat_minor": 2
}
